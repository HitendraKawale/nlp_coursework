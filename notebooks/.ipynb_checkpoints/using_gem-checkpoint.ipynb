{
 "cells": [
  {
   "cell_type": "code",
   "execution_count": 15,
   "id": "447f6e68-0c59-4d6b-8829-35c57a534590",
   "metadata": {},
   "outputs": [
    {
     "name": "stdout",
     "output_type": "stream",
     "text": [
      "Running on Apple Silicon (M1)\n",
      "GPU available, TensorFlow will use it if appropriate\n",
      "Number of training tokens: 82548\n",
      "Number of validation tokens: 6004\n",
      "Number of test tokens: 10257\n",
      "\n",
      "BIO Tag Distribution:\n",
      " O       62474\n",
      "I-LF     9525\n",
      "B-AC     6626\n",
      "B-LF     3923\n",
      "Name: count, dtype: int64\n"
     ]
    },
    {
     "data": {
      "image/png": "[encoded data removed]",
      "text/plain": [
       "<Figure size 640x480 with 1 Axes>"
      ]
     },
     "metadata": {},
     "output_type": "display_data"
    }
   ],
   "source": [
    "# --- 1. Setup and Imports ---\n",
    "import pandas as pd\n",
    "import numpy as np\n",
    "import matplotlib.pyplot as plt\n",
    "import seaborn as sns\n",
    "from sklearn.model_selection import train_test_split\n",
    "from sklearn.metrics import classification_report, confusion_matrix  # Example\n",
    "from transformers import AutoTokenizer, TFAutoModelForTokenClassification, Trainer, TrainingArguments  # TF for TensorFlow\n",
    "import tensorflow as tf\n",
    "from seqeval.metrics import classification_report as seqeval_report  # For seqeval\n",
    "import platform\n",
    "from datasets import load_dataset\n",
    "from transformers import AutoTokenizer\n",
    "\n",
    "tokenizer = AutoTokenizer.from_pretrained(\"bert-base-uncased\")\n",
    "\n",
    "# --- Optional ---\n",
    "import nltk\n",
    "# import spacy\n",
    "\n",
    "# --- Set random seed for reproducibility ---\n",
    "SEED = 42\n",
    "np.random.seed(SEED)\n",
    "tf.random.set_seed(SEED)  # TensorFlow seed\n",
    "\n",
    "# --- Device setup (TensorFlow handles this more implicitly) ---\n",
    "if platform.machine() == \"arm64\":  # Detect Apple Silicon\n",
    "    print(\"Running on Apple Silicon (M1)\")\n",
    "    try:\n",
    "        # TensorFlow will try to use the GPU if available\n",
    "        tf.config.list_physical_devices('GPU')\n",
    "        print(\"GPU available, TensorFlow will use it if appropriate\")\n",
    "    except RuntimeError as e:\n",
    "        print(\"No GPU available, TensorFlow will use CPU\")\n",
    "else:\n",
    "    print(\"Not running on Apple Silicon, TensorFlow will use GPU if available\")\n",
    "    try:\n",
    "        tf.config.list_physical_devices('GPU')\n",
    "        print(\"GPU available, TensorFlow will use it if appropriate\")\n",
    "    except RuntimeError as e:\n",
    "        print(\"No GPU available, TensorFlow will use CPU\")\n",
    "\n",
    "# --- 2. Data Loading and Exploration ---\n",
    "\n",
    "# Load the dataset\n",
    "dataset = load_dataset(\"surrey-nlp/PLOD-CW-25\")\n",
    "train_data = dataset['train']\n",
    "validation_data = dataset['validation']\n",
    "test_data = dataset['test']\n",
    "\n",
    "def extract_data(split):\n",
    "    tokens = []\n",
    "    pos_tags = []\n",
    "    bio_tags = []\n",
    "    for example in split:\n",
    "        tokens.extend(example['tokens'])\n",
    "        pos_tags.extend(example['pos_tags'])\n",
    "        bio_tags.extend(example['ner_tags'])  # Changed 'bio_tags' to 'ner_tags'\n",
    "    return tokens, pos_tags, bio_tags\n",
    "\n",
    "train_tokens, train_pos_tags, train_bio_tags = extract_data(train_data)\n",
    "val_tokens, val_pos_tags, val_bio_tags = extract_data(validation_data)\n",
    "test_tokens, test_pos_tags, test_bio_tags = extract_data(test_data)\n",
    "\n",
    "# Basic Data Exploration\n",
    "print(f\"Number of training tokens: {len(train_tokens)}\")\n",
    "print(f\"Number of validation tokens: {len(val_tokens)}\")\n",
    "print(f\"Number of test tokens: {len(test_tokens)}\")\n",
    "\n",
    "# Example: Distribution of BIO tags\n",
    "bio_tag_counts = pd.Series(train_bio_tags).value_counts()\n",
    "print(\"\\nBIO Tag Distribution:\\n\", bio_tag_counts)\n",
    "bio_tag_counts.plot(kind='bar')\n",
    "plt.title('Distribution of BIO Tags')\n",
    "plt.xlabel('BIO Tag')\n",
    "plt.ylabel('Count')\n",
    "plt.show()\n",
    "\n",
    "# Add more exploration as needed (e.g., POS tag distribution, sequence lengths, etc.)"
   ]
  },
  {
   "cell_type": "code",
   "execution_count": 5,
   "id": "dba18641-757a-4117-978e-23be2bbc433d",
   "metadata": {},
   "outputs": [
    {
     "name": "stdout",
     "output_type": "stream",
     "text": [
      "{'-', 'A', 'F', 'B', 'I', 'L', 'O', 'C'}\n"
     ]
    }
   ],
   "source": [
    "unique_ner_tags = set(tag for sublist in train_bio_tags for tag in sublist)\n",
    "print(unique_ner_tags)"
   ]
  },
  {
   "cell_type": "code",
   "execution_count": 6,
   "id": "aba2d642-809c-4e4c-98a1-9d977d3e2242",
   "metadata": {},
   "outputs": [
    {
     "name": "stdout",
     "output_type": "stream",
     "text": [
      "{'tokens': ['MRR', ',', 'mortality', 'rate', 'ratio', ';', 'TBI', ',', 'traumatic', 'brain', 'injury', '.'], 'pos_tags': ['NOUN', 'PUNCT', 'NOUN', 'NOUN', 'NOUN', 'PUNCT', 'PROPN', 'PUNCT', 'ADJ', 'NOUN', 'NOUN', 'PUNCT'], 'ner_tags': ['B-AC', 'O', 'B-LF', 'I-LF', 'I-LF', 'O', 'B-AC', 'O', 'B-LF', 'I-LF', 'I-LF', 'O']}\n",
      "{'tokens': ['HPC', ',', 'hippocampus', ';', 'mOFC', ',', 'medial', 'OFC', ';', 'OFC', ',', 'orbitofrontal', 'cortex', ';', 'PPI', ',', 'psychophysiological', 'interaction', '.'], 'pos_tags': ['PROPN', 'PUNCT', 'NOUN', 'PUNCT', 'NOUN', 'PUNCT', 'ADJ', 'PROPN', 'PUNCT', 'PROPN', 'PUNCT', 'ADJ', 'NOUN', 'PUNCT', 'NOUN', 'PUNCT', 'ADJ', 'NOUN', 'PUNCT'], 'ner_tags': ['B-AC', 'O', 'B-LF', 'O', 'O', 'O', 'O', 'B-AC', 'O', 'B-AC', 'O', 'B-LF', 'I-LF', 'O', 'B-AC', 'O', 'B-LF', 'I-LF', 'O']}\n",
      "{'tokens': ['In', 'addition', 'to', 'the', 'effects', 'on', 'cell', 'growth', 'and', 'migration', ',', 'the', '18β', '-', 'GA', '-', 'd', 'used', 'in', 'this', 'study', 'could', 'also', 'up', '-', 'regulate', 'expression', 'of', 'aquaporin-3', '(', 'AQP-3', ')', 'in', 'fibroblasts', 'and', 'keratinocytes', '.'], 'pos_tags': ['ADP', 'NOUN', 'ADP', 'DET', 'NOUN', 'ADP', 'NOUN', 'NOUN', 'CCONJ', 'NOUN', 'PUNCT', 'DET', 'NOUN', 'PUNCT', 'NOUN', 'PUNCT', 'NOUN', 'VERB', 'ADP', 'DET', 'NOUN', 'AUX', 'ADV', 'ADV', 'PUNCT', 'VERB', 'NOUN', 'ADP', 'NOUN', 'PUNCT', 'NOUN', 'PUNCT', 'ADP', 'NOUN', 'CCONJ', 'NOUN', 'PUNCT'], 'ner_tags': ['O', 'O', 'O', 'O', 'O', 'O', 'O', 'O', 'O', 'O', 'O', 'O', 'B-AC', 'B-AC', 'B-AC', 'B-AC', 'B-AC', 'O', 'O', 'O', 'O', 'O', 'O', 'O', 'O', 'O', 'O', 'O', 'B-LF', 'O', 'B-AC', 'O', 'O', 'O', 'O', 'O', 'O']}\n",
      "{'tokens': ['Abbreviations', ':', 'HC', ',', 'C', '-', 'terminal', 'receptor', '-', 'binding', 'domain', ';', 'ka', ',', 'association', 'rate', 'constant', ';', 'kd', ',', 'dissociation', 'rate', 'constant', ';', 'KD', ',', 'equilibrium', 'dissociation', 'constant', ';', 'ND', ',', 'nanodisc', ';', 'Syt', ',', 'synaptotagmin', ';', 'WT', ',', 'wild', '-', 'type'], 'pos_tags': ['NOUN', 'PUNCT', 'PROPN', 'PUNCT', 'NOUN', 'PUNCT', 'ADJ', 'NOUN', 'PUNCT', 'VERB', 'NOUN', 'PUNCT', 'NOUN', 'PUNCT', 'NOUN', 'NOUN', 'ADJ', 'PUNCT', 'NOUN', 'PUNCT', 'NOUN', 'NOUN', 'ADJ', 'PUNCT', 'NOUN', 'PUNCT', 'NOUN', 'NOUN', 'ADJ', 'PUNCT', 'PROPN', 'PUNCT', 'NOUN', 'PUNCT', 'PROPN', 'PUNCT', 'NOUN', 'PUNCT', 'PROPN', 'PUNCT', 'ADJ', 'PUNCT', 'NOUN'], 'ner_tags': ['O', 'O', 'B-AC', 'O', 'B-LF', 'I-LF', 'I-LF', 'I-LF', 'I-LF', 'I-LF', 'I-LF', 'O', 'B-AC', 'O', 'B-LF', 'I-LF', 'I-LF', 'O', 'B-AC', 'O', 'B-LF', 'I-LF', 'I-LF', 'O', 'B-AC', 'O', 'B-LF', 'I-LF', 'I-LF', 'O', 'B-AC', 'O', 'B-LF', 'O', 'B-AC', 'O', 'B-LF', 'O', 'B-AC', 'O', 'B-LF', 'I-LF', 'I-LF']}\n",
      "{'tokens': ['LL', ':', 'lower', 'limit', ',', 'UL', ':', 'upper', 'limit', '.'], 'pos_tags': ['PROPN', 'PUNCT', 'ADJ', 'NOUN', 'PUNCT', 'PROPN', 'PUNCT', 'ADJ', 'NOUN', 'PUNCT'], 'ner_tags': ['B-AC', 'O', 'B-LF', 'I-LF', 'O', 'B-AC', 'O', 'B-LF', 'I-LF', 'O']}\n"
     ]
    }
   ],
   "source": [
    "for i in range(5):  # Print the first 5 examples\n",
    "    print(train_data[i])"
   ]
  },
  {
   "cell_type": "code",
   "execution_count": 16,
   "id": "9a967a23-e43a-4030-9e4b-eb882a3a0c28",
   "metadata": {},
   "outputs": [],
   "source": [
    "tag_to_id = {\n",
    "    'O': 0,\n",
    "    'B-AC': 1,\n",
    "    'I-AC': 2,\n",
    "    'L-AC': 3,\n",
    "    'A-AC': 4,\n",
    "    'B-LF': 5,\n",
    "    'I-LF': 6,\n",
    "    'L-LF': 7,\n",
    "    'F-LF': 8,\n",
    "    'C': 9,\n",
    "    '-': 10\n",
    "}\n",
    "id_to_tag = {v: k for k, v in tag_to_id.items()}"
   ]
  },
  {
   "cell_type": "code",
   "execution_count": 17,
   "id": "6fd5f62e-5f34-447b-a8d9-3919b2c4d906",
   "metadata": {},
   "outputs": [],
   "source": [
    "def tokenize_and_align_labels(examples):\n",
    "    tokenized_inputs = tokenizer(examples[\"tokens\"], truncation=True, is_split_into_words=True)\n",
    "\n",
    "    labels = []\n",
    "    for i, word_labels in enumerate(examples[\"ner_tags\"]):\n",
    "        word_ids = tokenized_inputs.word_ids(batch_index=i)  # Map tokens to their respective word.\n",
    "        previous_word_idx = None\n",
    "        label_ids = []\n",
    "        for word_idx in word_ids:  # Set the special tokens to -100.\n",
    "            if word_idx is None:\n",
    "                label_ids.append(-100)\n",
    "            elif word_idx != previous_word_idx:  # Only label the first token of a given word.\n",
    "                label_ids.append(tag_to_id[word_labels[word_idx]])\n",
    "            else:\n",
    "                label_ids.append(-100)\n",
    "            previous_word_idx = word_idx\n",
    "        labels.append(label_ids)\n",
    "\n",
    "    tokenized_inputs[\"labels\"] = labels\n",
    "    return tokenized_inputs"
   ]
  },
  {
   "cell_type": "code",
   "execution_count": 18,
   "id": "447dbcdd-a434-4b5f-b5c7-41313a50e546",
   "metadata": {},
   "outputs": [
    {
     "data": {
      "application/vnd.jupyter.widget-view+json": {
       "model_id": "b23f1ea8622849088c55fe0e23f6f1ac",
       "version_major": 2,
       "version_minor": 0
      },
      "text/plain": [
       "Map:   0%|          | 0/2000 [00:00<?, ? examples/s]"
      ]
     },
     "metadata": {},
     "output_type": "display_data"
    },
    {
     "data": {
      "application/vnd.jupyter.widget-view+json": {
       "model_id": "0367060bd7b448fe9f99da457a59f7ca",
       "version_major": 2,
       "version_minor": 0
      },
      "text/plain": [
       "Map:   0%|          | 0/150 [00:00<?, ? examples/s]"
      ]
     },
     "metadata": {},
     "output_type": "display_data"
    },
    {
     "data": {
      "application/vnd.jupyter.widget-view+json": {
       "model_id": "31e55b5850ea4f6ea009180da0ee44f1",
       "version_major": 2,
       "version_minor": 0
      },
      "text/plain": [
       "Map:   0%|          | 0/250 [00:00<?, ? examples/s]"
      ]
     },
     "metadata": {},
     "output_type": "display_data"
    }
   ],
   "source": [
    "train_tokenized_datasets = train_data.map(tokenize_and_align_labels, batched=True)\n",
    "val_tokenized_datasets = validation_data.map(tokenize_and_align_labels, batched=True)\n",
    "test_tokenized_datasets = test_data.map(tokenize_and_align_labels, batched=True)"
   ]
  },
  {
   "cell_type": "code",
   "execution_count": null,
   "id": "506b07ca-6621-4b14-b6a8-968b9273ce02",
   "metadata": {},
   "outputs": [],
   "source": []
  }
 ],
 "metadata": {
  "kernelspec": {
   "display_name": "Python 3 (ipykernel)",
   "language": "python",
   "name": "python3"
  },
  "language_info": {
   "codemirror_mode": {
    "name": "ipython",
    "version": 3
   },
   "file_extension": ".py",
   "mimetype": "text/x-python",
   "name": "python",
   "nbconvert_exporter": "python",
   "pygments_lexer": "ipython3",
   "version": "3.10.14"
  }
 },
 "nbformat": 4,
 "nbformat_minor": 5
}
