{
 "cells": [
  {
   "cell_type": "code",
   "execution_count": null,
   "id": "b3f8fa7c-001d-4637-b8ac-0bdfa445d95e",
   "metadata": {},
   "outputs": [],
   "source": []
  }
 ],
 "metadata": {
  "kernelspec": {
   "display_name": "",
   "name": ""
  },
  "language_info": {
   "name": ""
  }
 },
 "nbformat": 4,
 "nbformat_minor": 5
}
