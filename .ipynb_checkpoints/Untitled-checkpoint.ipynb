{
 "cells": [
  {
   "cell_type": "code",
   "execution_count": 1,
   "id": "45037e52-58ef-460b-bb35-9069e16cade4",
   "metadata": {},
   "outputs": [
    {
     "ename": "ModuleNotFoundError",
     "evalue": "No module named 'pandas'",
     "output_type": "error",
     "traceback": [
      "\u001b[31m---------------------------------------------------------------------------\u001b[39m",
      "\u001b[31mModuleNotFoundError\u001b[39m                       Traceback (most recent call last)",
      "\u001b[36mCell\u001b[39m\u001b[36m \u001b[39m\u001b[32mIn[1]\u001b[39m\u001b[32m, line 2\u001b[39m\n\u001b[32m      1\u001b[39m \u001b[38;5;66;03m# --- 1. Setup and Imports ---\u001b[39;00m\n\u001b[32m----> \u001b[39m\u001b[32m2\u001b[39m \u001b[38;5;28;01mimport\u001b[39;00m\u001b[38;5;250m \u001b[39m\u001b[34;01mpandas\u001b[39;00m\u001b[38;5;250m \u001b[39m\u001b[38;5;28;01mas\u001b[39;00m\u001b[38;5;250m \u001b[39m\u001b[34;01mpd\u001b[39;00m\n\u001b[32m      3\u001b[39m \u001b[38;5;28;01mimport\u001b[39;00m\u001b[38;5;250m \u001b[39m\u001b[34;01mnumpy\u001b[39;00m\u001b[38;5;250m \u001b[39m\u001b[38;5;28;01mas\u001b[39;00m\u001b[38;5;250m \u001b[39m\u001b[34;01mnp\u001b[39;00m\n\u001b[32m      4\u001b[39m \u001b[38;5;28;01mimport\u001b[39;00m\u001b[38;5;250m \u001b[39m\u001b[34;01mmatplotlib\u001b[39;00m\u001b[34;01m.\u001b[39;00m\u001b[34;01mpyplot\u001b[39;00m\u001b[38;5;250m \u001b[39m\u001b[38;5;28;01mas\u001b[39;00m\u001b[38;5;250m \u001b[39m\u001b[34;01mplt\u001b[39;00m\n",
      "\u001b[31mModuleNotFoundError\u001b[39m: No module named 'pandas'"
     ]
    }
   ],
   "source": [
    "# --- 1. Setup and Imports ---\n",
    "import pandas as pd\n",
    "import numpy as np\n",
    "import matplotlib.pyplot as plt\n",
    "import seaborn as sns\n",
    "from sklearn.model_selection import train_test_split\n",
    "from sklearn.metrics import classification_report, confusion_matrix  # Example\n",
    "from transformers import AutoTokenizer, AutoModelForTokenClassification, Trainer, TrainingArguments  # If using Transformers\n",
    "import torch\n",
    "from seqeval.metrics import classification_report as seqeval_report  # For seqeval\n",
    "import platform\n",
    "from datasets import load_dataset\n",
    "\n",
    "# --- Optional ---\n",
    "import nltk\n",
    "# import spacy\n",
    "\n",
    "# --- Set random seed for reproducibility ---\n",
    "SEED = 42\n",
    "np.random.seed(SEED)\n",
    "torch.manual_seed(SEED)\n",
    "\n",
    "# --- M1 Specific Check and Setup ---\n",
    "if platform.machine() == \"arm64\":  # Detect Apple Silicon\n",
    "    print(\"Running on Apple Silicon (M1)\")\n",
    "    if torch.backends.mps.is_available(): #Ensure доступность GPU\n",
    "        device = torch.device(\"mps\")\n",
    "        torch.mps.manual_seed(SEED)\n",
    "        print(\"MPS device found, using GPU\")\n",
    "    else:\n",
    "        device = torch.device(\"cpu\")\n",
    "        torch.cuda.manual_seed_all(SEED)  # If using GPU\n",
    "        print(\"MPS device not found, using CPU\")\n",
    "else:\n",
    "    device = torch.device(\"cuda\") if torch.cuda.is_available() else torch.device(\"cpu\")\n",
    "    torch.cuda.manual_seed_all(SEED)  # If using GPU\n",
    "    print(\"Not running on Apple Silicon, using\", device)\n",
    "\n",
    "# --- 2. Data Loading and Exploration ---\n",
    "\n",
    "# Load the dataset\n",
    "dataset = load_dataset(\"surrey-nlp/PLOD-CW-25\")\n",
    "train_data = dataset['train']\n",
    "validation_data = dataset['validation']\n",
    "test_data = dataset['test']\n",
    "\n",
    "def extract_data(split):\n",
    "    tokens = []\n",
    "    pos_tags = []\n",
    "    bio_tags = []\n",
    "    for example in split:\n",
    "        tokens.extend(example['tokens'])\n",
    "        pos_tags.extend(example['pos_tags'])\n",
    "        bio_tags.extend(example['bio_tags'])\n",
    "    return tokens, pos_tags, bio_tags\n",
    "\n",
    "train_tokens, train_pos_tags, train_bio_tags = extract_data(train_data)\n",
    "val_tokens, val_pos_tags, val_bio_tags = extract_data(validation_data)\n",
    "test_tokens, test_pos_tags, test_bio_tags = extract_data(test_data)\n",
    "\n",
    "# Basic Data Exploration\n",
    "print(f\"Number of training tokens: {len(train_tokens)}\")\n",
    "print(f\"Number of validation tokens: {len(val_tokens)}\")\n",
    "print(f\"Number of test tokens: {len(test_tokens)}\")\n",
    "\n",
    "# Example: Distribution of BIO tags\n",
    "bio_tag_counts = pd.Series(train_bio_tags).value_counts()\n",
    "print(\"\\nBIO Tag Distribution:\\n\", bio_tag_counts)\n",
    "bio_tag_counts.plot(kind='bar')\n",
    "plt.title('Distribution of BIO Tags')\n",
    "plt.xlabel('BIO Tag')\n",
    "plt.ylabel('Count')\n",
    "plt.show()\n",
    "\n",
    "# Add more exploration as needed (e.g., POS tag distribution, sequence lengths, etc.)"
   ]
  },
  {
   "cell_type": "code",
   "execution_count": null,
   "id": "f8e13fa6-4f00-48fa-8749-cb75a28079ae",
   "metadata": {},
   "outputs": [],
   "source": []
  }
 ],
 "metadata": {
  "kernelspec": {
   "display_name": "Python 3 (ipykernel)",
   "language": "python",
   "name": "python3"
  },
  "language_info": {
   "codemirror_mode": {
    "name": "ipython",
    "version": 3
   },
   "file_extension": ".py",
   "mimetype": "text/x-python",
   "name": "python",
   "nbconvert_exporter": "python",
   "pygments_lexer": "ipython3",
   "version": "3.13.3"
  }
 },
 "nbformat": 4,
 "nbformat_minor": 5
}
